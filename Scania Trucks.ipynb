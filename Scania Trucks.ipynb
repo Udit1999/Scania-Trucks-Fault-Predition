{
 "cells": [
  {
   "cell_type": "markdown",
   "metadata": {},
   "source": [
    "# Scania Trucks Classification using Logistic Regression "
   ]
  },
  {
   "cell_type": "code",
   "execution_count": 11,
   "metadata": {},
   "outputs": [],
   "source": [
    "import pandas as pd\n",
    "from math import e\n",
    "import numpy as np\n",
    "import scipy.stats as s\n",
    "import random\n",
    "import matplotlib.pyplot as plt\n",
    "from time import time\n",
    "from sklearn.preprocessing import StandardScaler,MinMaxScaler,MaxAbsScaler,RobustScaler"
   ]
  },
  {
   "cell_type": "code",
   "execution_count": 2,
   "metadata": {},
   "outputs": [
    {
     "data": {
      "text/html": [
       "<div>\n",
       "<style scoped>\n",
       "    .dataframe tbody tr th:only-of-type {\n",
       "        vertical-align: middle;\n",
       "    }\n",
       "\n",
       "    .dataframe tbody tr th {\n",
       "        vertical-align: top;\n",
       "    }\n",
       "\n",
       "    .dataframe thead th {\n",
       "        text-align: right;\n",
       "    }\n",
       "</style>\n",
       "<table border=\"1\" class=\"dataframe\">\n",
       "  <thead>\n",
       "    <tr style=\"text-align: right;\">\n",
       "      <th></th>\n",
       "      <th>class</th>\n",
       "      <th>aa_000</th>\n",
       "      <th>ab_000</th>\n",
       "      <th>ac_000</th>\n",
       "      <th>ad_000</th>\n",
       "      <th>ae_000</th>\n",
       "      <th>af_000</th>\n",
       "      <th>ag_000</th>\n",
       "      <th>ag_001</th>\n",
       "      <th>ag_002</th>\n",
       "      <th>...</th>\n",
       "      <th>ee_002</th>\n",
       "      <th>ee_003</th>\n",
       "      <th>ee_004</th>\n",
       "      <th>ee_005</th>\n",
       "      <th>ee_006</th>\n",
       "      <th>ee_007</th>\n",
       "      <th>ee_008</th>\n",
       "      <th>ee_009</th>\n",
       "      <th>ef_000</th>\n",
       "      <th>eg_000</th>\n",
       "    </tr>\n",
       "  </thead>\n",
       "  <tbody>\n",
       "    <tr>\n",
       "      <th>0</th>\n",
       "      <td>neg</td>\n",
       "      <td>76698</td>\n",
       "      <td>na</td>\n",
       "      <td>2130706438</td>\n",
       "      <td>280</td>\n",
       "      <td>0</td>\n",
       "      <td>0</td>\n",
       "      <td>0</td>\n",
       "      <td>0</td>\n",
       "      <td>0</td>\n",
       "      <td>...</td>\n",
       "      <td>1240520</td>\n",
       "      <td>493384</td>\n",
       "      <td>721044</td>\n",
       "      <td>469792</td>\n",
       "      <td>339156</td>\n",
       "      <td>157956</td>\n",
       "      <td>73224</td>\n",
       "      <td>0</td>\n",
       "      <td>0</td>\n",
       "      <td>0</td>\n",
       "    </tr>\n",
       "    <tr>\n",
       "      <th>1</th>\n",
       "      <td>neg</td>\n",
       "      <td>33058</td>\n",
       "      <td>na</td>\n",
       "      <td>0</td>\n",
       "      <td>na</td>\n",
       "      <td>0</td>\n",
       "      <td>0</td>\n",
       "      <td>0</td>\n",
       "      <td>0</td>\n",
       "      <td>0</td>\n",
       "      <td>...</td>\n",
       "      <td>421400</td>\n",
       "      <td>178064</td>\n",
       "      <td>293306</td>\n",
       "      <td>245416</td>\n",
       "      <td>133654</td>\n",
       "      <td>81140</td>\n",
       "      <td>97576</td>\n",
       "      <td>1500</td>\n",
       "      <td>0</td>\n",
       "      <td>0</td>\n",
       "    </tr>\n",
       "    <tr>\n",
       "      <th>2</th>\n",
       "      <td>neg</td>\n",
       "      <td>41040</td>\n",
       "      <td>na</td>\n",
       "      <td>228</td>\n",
       "      <td>100</td>\n",
       "      <td>0</td>\n",
       "      <td>0</td>\n",
       "      <td>0</td>\n",
       "      <td>0</td>\n",
       "      <td>0</td>\n",
       "      <td>...</td>\n",
       "      <td>277378</td>\n",
       "      <td>159812</td>\n",
       "      <td>423992</td>\n",
       "      <td>409564</td>\n",
       "      <td>320746</td>\n",
       "      <td>158022</td>\n",
       "      <td>95128</td>\n",
       "      <td>514</td>\n",
       "      <td>0</td>\n",
       "      <td>0</td>\n",
       "    </tr>\n",
       "    <tr>\n",
       "      <th>3</th>\n",
       "      <td>neg</td>\n",
       "      <td>12</td>\n",
       "      <td>0</td>\n",
       "      <td>70</td>\n",
       "      <td>66</td>\n",
       "      <td>0</td>\n",
       "      <td>10</td>\n",
       "      <td>0</td>\n",
       "      <td>0</td>\n",
       "      <td>0</td>\n",
       "      <td>...</td>\n",
       "      <td>240</td>\n",
       "      <td>46</td>\n",
       "      <td>58</td>\n",
       "      <td>44</td>\n",
       "      <td>10</td>\n",
       "      <td>0</td>\n",
       "      <td>0</td>\n",
       "      <td>0</td>\n",
       "      <td>4</td>\n",
       "      <td>32</td>\n",
       "    </tr>\n",
       "    <tr>\n",
       "      <th>4</th>\n",
       "      <td>neg</td>\n",
       "      <td>60874</td>\n",
       "      <td>na</td>\n",
       "      <td>1368</td>\n",
       "      <td>458</td>\n",
       "      <td>0</td>\n",
       "      <td>0</td>\n",
       "      <td>0</td>\n",
       "      <td>0</td>\n",
       "      <td>0</td>\n",
       "      <td>...</td>\n",
       "      <td>622012</td>\n",
       "      <td>229790</td>\n",
       "      <td>405298</td>\n",
       "      <td>347188</td>\n",
       "      <td>286954</td>\n",
       "      <td>311560</td>\n",
       "      <td>433954</td>\n",
       "      <td>1218</td>\n",
       "      <td>0</td>\n",
       "      <td>0</td>\n",
       "    </tr>\n",
       "  </tbody>\n",
       "</table>\n",
       "<p>5 rows × 171 columns</p>\n",
       "</div>"
      ],
      "text/plain": [
       "  class  aa_000 ab_000      ac_000 ad_000 ae_000 af_000 ag_000 ag_001 ag_002  \\\n",
       "0   neg   76698     na  2130706438    280      0      0      0      0      0   \n",
       "1   neg   33058     na           0     na      0      0      0      0      0   \n",
       "2   neg   41040     na         228    100      0      0      0      0      0   \n",
       "3   neg      12      0          70     66      0     10      0      0      0   \n",
       "4   neg   60874     na        1368    458      0      0      0      0      0   \n",
       "\n",
       "   ...     ee_002  ee_003  ee_004  ee_005  ee_006  ee_007  ee_008 ee_009  \\\n",
       "0  ...    1240520  493384  721044  469792  339156  157956   73224      0   \n",
       "1  ...     421400  178064  293306  245416  133654   81140   97576   1500   \n",
       "2  ...     277378  159812  423992  409564  320746  158022   95128    514   \n",
       "3  ...        240      46      58      44      10       0       0      0   \n",
       "4  ...     622012  229790  405298  347188  286954  311560  433954   1218   \n",
       "\n",
       "  ef_000 eg_000  \n",
       "0      0      0  \n",
       "1      0      0  \n",
       "2      0      0  \n",
       "3      4     32  \n",
       "4      0      0  \n",
       "\n",
       "[5 rows x 171 columns]"
      ]
     },
     "execution_count": 2,
     "metadata": {},
     "output_type": "execute_result"
    }
   ],
   "source": [
    "TrainData = pd.read_csv(\"aps_failure_training_set.csv\")\n",
    "TrainData.head()"
   ]
  },
  {
   "cell_type": "code",
   "execution_count": 3,
   "metadata": {},
   "outputs": [],
   "source": [
    "sc = StandardScaler()"
   ]
  },
  {
   "cell_type": "code",
   "execution_count": 4,
   "metadata": {},
   "outputs": [
    {
     "name": "stderr",
     "output_type": "stream",
     "text": [
      "C:\\Users\\hp\\Anaconda3\\lib\\site-packages\\sklearn\\utils\\validation.py:475: DataConversionWarning: Data with input dtype object was converted to float64 by StandardScaler.\n",
      "  warnings.warn(msg, DataConversionWarning)\n"
     ]
    },
    {
     "name": "stdout",
     "output_type": "stream",
     "text": [
      "[[ 0.11938141 -0.21573619  2.31022415 ... -0.17569836 -0.0096073\n",
      "  -0.01827212]\n",
      " [-0.18069661 -0.21573619 -0.43285893 ... -0.14392684 -0.0096073\n",
      "  -0.01827212]\n",
      " [-0.12581066 -0.21573619 -0.43285864 ... -0.16481132 -0.0096073\n",
      "  -0.01827212]\n",
      " ...\n",
      " [-0.40724039  0.33693754  2.31022414 ... -0.17569836 -0.0096073\n",
      "  -0.01827212]\n",
      " [ 0.14409453 -0.21573619  2.31022414 ...  8.05147329 -0.0096073\n",
      "  -0.01827212]\n",
      " [-0.13143541 -0.21573619 -0.43285803 ... -0.17235176 -0.0096073\n",
      "  -0.01827212]]\n",
      "(60000,)\n"
     ]
    }
   ],
   "source": [
    "TrainData.replace('na','-1',inplace=True)\n",
    "\n",
    "X_TrainData = TrainData.iloc[:,1:]\n",
    "X_TrainData.astype('float64')\n",
    "X_TrainData = sc.fit_transform(np.array(X_TrainData))\n",
    "print(X_TrainData)\n",
    "Y_TrainData = []\n",
    "for i in range(TrainData.shape[0]):\n",
    "    if TrainData.iloc[i,0] == 'neg':\n",
    "        Y_TrainData.append(0)\n",
    "    else:\n",
    "        Y_TrainData.append(1)\n",
    "Y_TrainData = np.array(Y_TrainData)\n",
    "print(Y_TrainData.shape)"
   ]
  },
  {
   "cell_type": "code",
   "execution_count": 5,
   "metadata": {},
   "outputs": [
    {
     "data": {
      "image/png": "[encoded data removed]",
      "text/plain": [
       "<Figure size 432x288 with 1 Axes>"
      ]
     },
     "metadata": {},
     "output_type": "display_data"
    }
   ],
   "source": [
    "\n",
    "plt.hist(Y_TrainData)\n",
    "plt.show()"
   ]
  },
  {
   "cell_type": "code",
   "execution_count": 6,
   "metadata": {},
   "outputs": [
    {
     "data": {
      "text/html": [
       "<div>\n",
       "<style scoped>\n",
       "    .dataframe tbody tr th:only-of-type {\n",
       "        vertical-align: middle;\n",
       "    }\n",
       "\n",
       "    .dataframe tbody tr th {\n",
       "        vertical-align: top;\n",
       "    }\n",
       "\n",
       "    .dataframe thead th {\n",
       "        text-align: right;\n",
       "    }\n",
       "</style>\n",
       "<table border=\"1\" class=\"dataframe\">\n",
       "  <thead>\n",
       "    <tr style=\"text-align: right;\">\n",
       "      <th></th>\n",
       "      <th>class</th>\n",
       "      <th>aa_000</th>\n",
       "      <th>ab_000</th>\n",
       "      <th>ac_000</th>\n",
       "      <th>ad_000</th>\n",
       "      <th>ae_000</th>\n",
       "      <th>af_000</th>\n",
       "      <th>ag_000</th>\n",
       "      <th>ag_001</th>\n",
       "      <th>ag_002</th>\n",
       "      <th>...</th>\n",
       "      <th>ee_002</th>\n",
       "      <th>ee_003</th>\n",
       "      <th>ee_004</th>\n",
       "      <th>ee_005</th>\n",
       "      <th>ee_006</th>\n",
       "      <th>ee_007</th>\n",
       "      <th>ee_008</th>\n",
       "      <th>ee_009</th>\n",
       "      <th>ef_000</th>\n",
       "      <th>eg_000</th>\n",
       "    </tr>\n",
       "  </thead>\n",
       "  <tbody>\n",
       "    <tr>\n",
       "      <th>0</th>\n",
       "      <td>neg</td>\n",
       "      <td>60</td>\n",
       "      <td>0</td>\n",
       "      <td>20</td>\n",
       "      <td>12</td>\n",
       "      <td>0</td>\n",
       "      <td>0</td>\n",
       "      <td>0</td>\n",
       "      <td>0</td>\n",
       "      <td>0</td>\n",
       "      <td>...</td>\n",
       "      <td>1098</td>\n",
       "      <td>138</td>\n",
       "      <td>412</td>\n",
       "      <td>654</td>\n",
       "      <td>78</td>\n",
       "      <td>88</td>\n",
       "      <td>0</td>\n",
       "      <td>0</td>\n",
       "      <td>0</td>\n",
       "      <td>0</td>\n",
       "    </tr>\n",
       "    <tr>\n",
       "      <th>1</th>\n",
       "      <td>neg</td>\n",
       "      <td>82</td>\n",
       "      <td>0</td>\n",
       "      <td>68</td>\n",
       "      <td>40</td>\n",
       "      <td>0</td>\n",
       "      <td>0</td>\n",
       "      <td>0</td>\n",
       "      <td>0</td>\n",
       "      <td>0</td>\n",
       "      <td>...</td>\n",
       "      <td>1068</td>\n",
       "      <td>276</td>\n",
       "      <td>1620</td>\n",
       "      <td>116</td>\n",
       "      <td>86</td>\n",
       "      <td>462</td>\n",
       "      <td>0</td>\n",
       "      <td>0</td>\n",
       "      <td>0</td>\n",
       "      <td>0</td>\n",
       "    </tr>\n",
       "    <tr>\n",
       "      <th>2</th>\n",
       "      <td>neg</td>\n",
       "      <td>66002</td>\n",
       "      <td>2</td>\n",
       "      <td>212</td>\n",
       "      <td>112</td>\n",
       "      <td>0</td>\n",
       "      <td>0</td>\n",
       "      <td>0</td>\n",
       "      <td>0</td>\n",
       "      <td>0</td>\n",
       "      <td>...</td>\n",
       "      <td>495076</td>\n",
       "      <td>380368</td>\n",
       "      <td>440134</td>\n",
       "      <td>269556</td>\n",
       "      <td>1315022</td>\n",
       "      <td>153680</td>\n",
       "      <td>516</td>\n",
       "      <td>0</td>\n",
       "      <td>0</td>\n",
       "      <td>0</td>\n",
       "    </tr>\n",
       "    <tr>\n",
       "      <th>3</th>\n",
       "      <td>neg</td>\n",
       "      <td>59816</td>\n",
       "      <td>na</td>\n",
       "      <td>1010</td>\n",
       "      <td>936</td>\n",
       "      <td>0</td>\n",
       "      <td>0</td>\n",
       "      <td>0</td>\n",
       "      <td>0</td>\n",
       "      <td>0</td>\n",
       "      <td>...</td>\n",
       "      <td>540820</td>\n",
       "      <td>243270</td>\n",
       "      <td>483302</td>\n",
       "      <td>485332</td>\n",
       "      <td>431376</td>\n",
       "      <td>210074</td>\n",
       "      <td>281662</td>\n",
       "      <td>3232</td>\n",
       "      <td>0</td>\n",
       "      <td>0</td>\n",
       "    </tr>\n",
       "    <tr>\n",
       "      <th>4</th>\n",
       "      <td>neg</td>\n",
       "      <td>1814</td>\n",
       "      <td>na</td>\n",
       "      <td>156</td>\n",
       "      <td>140</td>\n",
       "      <td>0</td>\n",
       "      <td>0</td>\n",
       "      <td>0</td>\n",
       "      <td>0</td>\n",
       "      <td>0</td>\n",
       "      <td>...</td>\n",
       "      <td>7646</td>\n",
       "      <td>4144</td>\n",
       "      <td>18466</td>\n",
       "      <td>49782</td>\n",
       "      <td>3176</td>\n",
       "      <td>482</td>\n",
       "      <td>76</td>\n",
       "      <td>0</td>\n",
       "      <td>0</td>\n",
       "      <td>0</td>\n",
       "    </tr>\n",
       "  </tbody>\n",
       "</table>\n",
       "<p>5 rows × 171 columns</p>\n",
       "</div>"
      ],
      "text/plain": [
       "  class  aa_000 ab_000 ac_000 ad_000 ae_000 af_000 ag_000 ag_001 ag_002  \\\n",
       "0   neg      60      0     20     12      0      0      0      0      0   \n",
       "1   neg      82      0     68     40      0      0      0      0      0   \n",
       "2   neg   66002      2    212    112      0      0      0      0      0   \n",
       "3   neg   59816     na   1010    936      0      0      0      0      0   \n",
       "4   neg    1814     na    156    140      0      0      0      0      0   \n",
       "\n",
       "   ...    ee_002  ee_003  ee_004  ee_005   ee_006  ee_007  ee_008 ee_009  \\\n",
       "0  ...      1098     138     412     654       78      88       0      0   \n",
       "1  ...      1068     276    1620     116       86     462       0      0   \n",
       "2  ...    495076  380368  440134  269556  1315022  153680     516      0   \n",
       "3  ...    540820  243270  483302  485332   431376  210074  281662   3232   \n",
       "4  ...      7646    4144   18466   49782     3176     482      76      0   \n",
       "\n",
       "  ef_000 eg_000  \n",
       "0      0      0  \n",
       "1      0      0  \n",
       "2      0      0  \n",
       "3      0      0  \n",
       "4      0      0  \n",
       "\n",
       "[5 rows x 171 columns]"
      ]
     },
     "execution_count": 6,
     "metadata": {},
     "output_type": "execute_result"
    }
   ],
   "source": [
    "TestData = pd.read_csv(\"aps_failure_test_set.csv\",skiprows=20,keep_default_na=False)\n",
    "TestData.head()"
   ]
  },
  {
   "cell_type": "code",
   "execution_count": 7,
   "metadata": {},
   "outputs": [
    {
     "name": "stderr",
     "output_type": "stream",
     "text": [
      "C:\\Users\\hp\\Anaconda3\\lib\\site-packages\\sklearn\\utils\\validation.py:475: DataConversionWarning: Data with input dtype object was converted to float64 by StandardScaler.\n",
      "  warnings.warn(msg, DataConversionWarning)\n"
     ]
    },
    {
     "data": {
      "image/png": "[encoded data removed]",
      "text/plain": [
       "<Figure size 432x288 with 1 Axes>"
      ]
     },
     "metadata": {},
     "output_type": "display_data"
    },
    {
     "name": "stdout",
     "output_type": "stream",
     "text": [
      "(16000,)\n"
     ]
    }
   ],
   "source": [
    "TestData.replace('na',-1,inplace=True)\n",
    "X_TestData = TestData.iloc[:,1:]\n",
    "X_TestData.astype('float64')\n",
    "X_TestData = sc.fit_transform(np.array(X_TestData))\n",
    "\n",
    "Y_TestData = []\n",
    "for i in range(TestData.shape[0]):\n",
    "    if TestData.iloc[i,0] == 'neg':\n",
    "        Y_TestData.append(0)\n",
    "    else:\n",
    "        Y_TestData.append(1)\n",
    "Y_TestData = np.array(Y_TestData)\n",
    "plt.hist(Y_TestData)\n",
    "plt.show()\n",
    "print(Y_TestData.shape)"
   ]
  },
  {
   "cell_type": "code",
   "execution_count": 8,
   "metadata": {},
   "outputs": [],
   "source": [
    "\n",
    "def sigmoid(z):\n",
    "    return 1/(1 + e**(-z))\n",
    "\n"
   ]
  },
  {
   "cell_type": "code",
   "execution_count": 9,
   "metadata": {},
   "outputs": [],
   "source": [
    "def logistic_regression(X,Y,Total_Steps,learning_rate):\n",
    "    \n",
    "    #To add X0 to train data i.e theta0(intercept)\n",
    "    intercept = np.ones((X.shape[0],1))\n",
    "    X = np.concatenate((intercept,X),axis = 1)\n",
    "    X = np.array(X,dtype=float)\n",
    "    \n",
    "    #Taking coefficients(thetas) as ZERO initially\n",
    "    theta = np.zeros(X.shape[1])\n",
    "    theta = np.array(theta,dtype=float)\n",
    "\n",
    "    \n",
    "    \n",
    "    for i in range(Total_Steps):\n",
    "        z = np.dot(X,theta)\n",
    "        z = np.array(z,dtype=float)\n",
    "        h = sigmoid(z)\n",
    "        gradient = np.dot(X.T,Y - h)\n",
    "        theta = theta + learning_rate*gradient\n",
    "        \n",
    "    return theta"
   ]
  },
  {
   "cell_type": "code",
   "execution_count": 12,
   "metadata": {},
   "outputs": [
    {
     "name": "stderr",
     "output_type": "stream",
     "text": [
      "C:\\Users\\hp\\Anaconda3\\lib\\site-packages\\ipykernel_launcher.py:3: RuntimeWarning: overflow encountered in power\n",
      "  This is separate from the ipykernel package so we can avoid doing imports until\n"
     ]
    },
    {
     "name": "stdout",
     "output_type": "stream",
     "text": [
      "Time Taken:  355.3701157569885\n"
     ]
    }
   ],
   "source": [
    "start = time()\n",
    "Total_steps = 10000\n",
    "alpha = 0.1\n",
    "\n",
    "theta = logistic_regression(X_TrainData,Y_TrainData,Total_steps,alpha)\n",
    "print(\"Time Taken: \",time() - start)"
   ]
  },
  {
   "cell_type": "code",
   "execution_count": 13,
   "metadata": {},
   "outputs": [
    {
     "name": "stdout",
     "output_type": "stream",
     "text": [
      "[-1.09814409e+04  3.33300899e+03 -6.66003745e+01  7.34476527e+02\n",
      " -1.78494935e+01 -2.36283376e+02  1.67635597e+02 -4.48438560e+03\n",
      "  6.86484675e+02 -3.18055875e+02  5.67640917e+03 -1.65421062e+03\n",
      "  1.15907906e+02  7.02673581e+01  9.69403163e+01 -3.15241573e+02\n",
      "  8.35167035e+01 -4.65741240e+02 -2.09890839e+01 -3.79407658e+02\n",
      "  1.34295689e+02  1.79757431e+03 -1.11474553e+03  1.05498320e+03\n",
      " -2.51971949e+03 -1.68891757e+01  6.13887831e+03 -3.13890827e+01\n",
      "  4.41247722e+01  7.56646504e+02  1.29347097e+02  4.29453652e+02\n",
      " -6.17276101e+02  1.24980481e+02  4.11857611e+02  1.22142861e+03\n",
      " -5.14643674e+02  3.30694360e+02  1.32379044e+03 -1.13711084e+03\n",
      " -9.23949362e+02  1.35777274e+03  1.32507974e+03 -1.84950549e+02\n",
      "  6.16799456e+02 -5.03898130e+02  7.98887919e+02  2.33050126e+02\n",
      " -2.18529241e+02 -4.04980822e+02  2.97599678e+02 -2.81028405e+01\n",
      "  1.03216111e+02  1.03571081e+03 -8.50820006e+02 -6.99319361e+00\n",
      " -6.12720156e+02  1.66335044e+03  7.62584655e+01 -1.64222929e+03\n",
      " -4.67237902e+02 -1.74436440e+02 -7.69055878e+01  6.49884737e+02\n",
      "  2.93684877e+02  2.34675537e+02  1.00646039e+01  4.33426378e+02\n",
      " -9.44929718e+02 -3.81607733e+03 -9.26485723e+02 -1.54649498e+03\n",
      "  1.38173391e+03  4.47698747e+02 -1.07490954e+03 -3.35511183e+02\n",
      " -4.62890937e+02  1.23351277e+03 -2.14422850e+03  1.88854736e+03\n",
      "  1.77393233e+03 -1.57459074e+03  1.37567140e+03  1.37566549e+03\n",
      " -2.90750801e+03  1.83300118e+03 -1.07018570e+03  6.22766206e+02\n",
      " -2.56722280e+03  3.38018359e+03 -5.82684213e+02 -2.74207312e+02\n",
      " -1.67634177e+01  8.76406893e+01  5.84680031e+02  5.55756352e+02\n",
      "  5.12972267e+02  5.17203641e+01  3.48630977e+02  2.13737895e+02\n",
      " -8.86317198e+01  4.52988152e+02 -1.50049115e+03 -5.37265557e+02\n",
      "  1.63645927e+03  7.66034514e+02 -3.90450268e+03  1.88457266e+03\n",
      " -8.67409835e+02  1.00432528e+03 -8.08315010e+00 -1.32645583e+02\n",
      "  1.37565320e+03 -3.59261359e+01 -2.98767013e+03  1.40311505e+03\n",
      " -1.20780913e+03 -2.14038506e+02  5.49526104e+02  2.99912228e+02\n",
      " -4.18848426e+01  6.29471801e+01  1.78312403e+01 -1.05560014e+02\n",
      " -6.84713439e+02 -3.16849419e+02 -3.79432442e+02 -9.16711766e+00\n",
      "  1.18879717e+02 -1.82831211e+02 -7.09634054e+02 -1.10566125e+02\n",
      "  2.21916471e+02 -1.72901427e+02 -1.65432534e+02  2.56941175e+01\n",
      "  1.82827152e+02 -5.88711560e+01  2.34638906e+02 -1.68628179e+02\n",
      "  4.12269995e+01 -3.24842903e+01 -1.57801991e+02 -1.03164113e+03\n",
      "  1.66560273e+03 -3.58869038e+02 -4.37484848e+02 -4.28918806e+01\n",
      " -6.13791136e+02  1.83725875e+03 -1.76158948e+03  8.54805135e+02\n",
      " -4.62803581e+02 -6.25899230e+01  7.34217481e+01  4.75119294e+01\n",
      " -3.89053349e+02 -1.15721859e+03  2.25664319e+03 -5.61392990e+02\n",
      "  1.22669089e+03  1.72249558e+03 -1.92876177e+03 -1.49047655e+03\n",
      "  2.06947235e+03  1.63840969e+02 -2.38867104e+03  8.90912717e+02\n",
      " -2.28966786e+02  7.98527410e+01 -1.57056458e+02]\n"
     ]
    }
   ],
   "source": [
    "print(theta)"
   ]
  },
  {
   "cell_type": "code",
   "execution_count": 14,
   "metadata": {},
   "outputs": [
    {
     "name": "stderr",
     "output_type": "stream",
     "text": [
      "C:\\Users\\hp\\Anaconda3\\lib\\site-packages\\ipykernel_launcher.py:3: RuntimeWarning: overflow encountered in power\n",
      "  This is separate from the ipykernel package so we can avoid doing imports until\n"
     ]
    },
    {
     "data": {
      "text/plain": [
       "array([0., 0., 0., ..., 0., 0., 0.])"
      ]
     },
     "execution_count": 14,
     "metadata": {},
     "output_type": "execute_result"
    }
   ],
   "source": [
    "intercept = np.ones((X_TestData.shape[0],1))\n",
    "XTest = np.concatenate((intercept,X_TestData),axis = 1)\n",
    "XTest = np.array(XTest,dtype=float)\n",
    "\n",
    "test_z = np.dot(XTest,theta)\n",
    "predictions = sigmoid(test_z)\n",
    "predictions = np.around(predictions)\n",
    "predictions"
   ]
  },
  {
   "cell_type": "code",
   "execution_count": 15,
   "metadata": {},
   "outputs": [
    {
     "name": "stdout",
     "output_type": "stream",
     "text": [
      " 98.89375%\n"
     ]
    }
   ],
   "source": [
    "accuracy = predictions[Y_TestData == predictions].shape[0]/predictions.shape[0]\n",
    "print(\" {}%\".format(accuracy*100))"
   ]
  },
  {
   "cell_type": "code",
   "execution_count": 16,
   "metadata": {},
   "outputs": [
    {
     "name": "stdout",
     "output_type": "stream",
     "text": [
      "Wrongly predicted:  177\n"
     ]
    }
   ],
   "source": [
    "print(\"Wrongly predicted: \",predictions[Y_TestData != predictions].shape[0])"
   ]
  },
  {
   "cell_type": "code",
   "execution_count": null,
   "metadata": {},
   "outputs": [],
   "source": []
  }
 ],
 "metadata": {
  "kernelspec": {
   "display_name": "Python 3",
   "language": "python",
   "name": "python3"
  },
  "language_info": {
   "codemirror_mode": {
    "name": "ipython",
    "version": 3
   },
   "file_extension": ".py",
   "mimetype": "text/x-python",
   "name": "python",
   "nbconvert_exporter": "python",
   "pygments_lexer": "ipython3",
   "version": "3.6.5"
  }
 },
 "nbformat": 4,
 "nbformat_minor": 2
}
